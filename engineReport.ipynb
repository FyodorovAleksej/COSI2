{
 "cells": [
  {
   "cell_type": "code",
   "execution_count": 1,
   "metadata": {},
   "outputs": [],
   "source": [
    "import engine\n",
    "\n",
    "KMEANS = []\n",
    "KRESULT = {}\n",
    "\n",
    "pictures = [(\"./resources/Laba_2_easy/P0001460.jpg\", 6),  # 3),\n",
    "            (\"./resources/Laba_2_easy/P0001461.jpg\", 6),\n",
    "            (\"./resources/Laba_2_easy/P0001468.jpg\", 6),\n",
    "            (\"./resources/Laba_2_easy/P0001469.jpg\", 6),\n",
    "            (\"./resources/Laba_2_easy/P0001471.jpg\", 6),\n",
    "\n",
    "            (\"./resources/Laba_2_hard/P0001464.jpg\", 6),\n",
    "            (\"./resources/Laba_2_hard/P0001465.jpg\", 6),\n",
    "            (\"./resources/Laba_2_hard/P0001467.jpg\", 6),\n",
    "            (\"./resources/Laba_2_hard/P0001470.jpg\", 6),  # 5),\n",
    "            (\"./resources/Laba_2_hard/P0001472.jpg\", 6)]\n",
    "\n",
    "colors = [(255, 0, 0), (0, 255, 0), (0, 0, 255), (255, 255, 0), (0, 255, 255), (255, 0, 255),\n",
    "                  (100, 0, 0), (0, 100, 0), (0, 0, 100), (100, 100, 0), (0, 100, 100), (100, 0, 100),\n",
    "                  (175, 0, 0), (0, 175, 0), (0, 0, 175), (175, 175, 0), (0, 175, 175), (175, 0, 175)]\n",
    "\n",
    "params = [(\"square\", 4), (\"perimeter\", 0.8), (\"compact\", 2)]\n",
    "\n",
    "oper = 4\n",
    "\n",
    "\n",
    "inputPicture = pictures[oper][0]\n",
    "clusters = pictures[oper][1]"
   ]
  },
  {
   "cell_type": "markdown",
   "metadata": {},
   "source": [
    "# Original image\n",
    "![title](./resources/Laba_2_easy/P0001471.jpg \"Original\")"
   ]
  },
  {
   "cell_type": "code",
   "execution_count": 2,
   "metadata": {},
   "outputs": [],
   "source": [
    "engine.toBinImage(inputPicture, \"binPicture.png\")"
   ]
  },
  {
   "cell_type": "markdown",
   "metadata": {},
   "source": [
    "# Binary image\n",
    "![title](./binPicture.png \"bin image\")"
   ]
  },
  {
   "cell_type": "code",
   "execution_count": 3,
   "metadata": {},
   "outputs": [],
   "source": [
    "binMap = engine.toBinCheckMeans(\"binPicture.png\", \"meanBinPicture.png\")"
   ]
  },
  {
   "cell_type": "markdown",
   "metadata": {},
   "source": [
    "# Binary with means image\n",
    "![title](./meanBinPicture.png \"bin mean image\")"
   ]
  },
  {
   "cell_type": "code",
   "execution_count": 4,
   "metadata": {},
   "outputs": [],
   "source": [
    "obj = engine.findObjectsOnImage(\"meanBinPicture.png\", binMap)\n",
    "objectChar = {i: engine.characteristics(obj[i]) for i in obj.keys()}\n",
    "\n",
    "res = engine.learnKMean(\"meanBinPicture.png\", objectChar, obj, clusters, \"resultPicture.png\", params, colors,\n",
    "                     KMEANS, KRESULT)\n",
    "KMEANS = res[0]\n",
    "KRESULT = res[1]"
   ]
  },
  {
   "cell_type": "markdown",
   "metadata": {},
   "source": [
    "# Result with clusters image\n",
    "![title](resultPicture.png \"result image\")"
   ]
  },
  {
   "cell_type": "code",
   "execution_count": 5,
   "metadata": {},
   "outputs": [
    {
     "name": "stdout",
     "output_type": "stream",
     "text": [
      "-------------------------------------------------\n",
      "Result Klusters:\n",
      "-----------------------------------------------\n",
      "0\n",
      "-----------------------------------------------\n",
      "[4060, 65.60000000000001, 13.249261083743843]\n",
      "[4060, 65.60000000000001, 13.249261083743843]\n",
      "-----------------------------------------------\n",
      "1\n",
      "-----------------------------------------------\n",
      "[3296, 60.0, 13.652912621359222]\n",
      "[3388, 63.2, 14.736717827626919]\n",
      "[3296, 60.0, 13.652912621359222]\n",
      "[3388, 63.2, 14.736717827626919]\n",
      "-----------------------------------------------\n",
      "2\n",
      "-----------------------------------------------\n",
      "[3600, 80.0, 22.22222222222222]\n",
      "[3608, 70.4, 17.170731707317074]\n",
      "[3600, 80.0, 22.22222222222222]\n",
      "[3608, 70.4, 17.170731707317074]\n",
      "-----------------------------------------------\n",
      "3\n",
      "-----------------------------------------------\n",
      "[4, 0.0, 0.0]\n",
      "[60, 0.0, 0.0]\n",
      "[360, 25.6, 22.755555555555556]\n",
      "[24, 8.0, 33.333333333333336]\n",
      "[4, 0.0, 0.0]\n",
      "[60, 0.0, 0.0]\n",
      "[360, 25.6, 22.755555555555556]\n",
      "[24, 8.0, 33.333333333333336]\n",
      "-----------------------------------------------\n",
      "4\n",
      "-----------------------------------------------\n",
      "[12296, 293.6, 87.63109954456733]\n",
      "[13200, 299.2, 84.77333333333333]\n",
      "[16076, 172.0, 23.003234635481462]\n",
      "[12832, 303.2, 89.55174563591022]\n",
      "[24456, 218.4, 24.379784102060842]\n",
      "[12828, 301.6, 88.63673214842532]\n",
      "[70972, 289.6, 14.771346446485937]\n",
      "[13140, 194.4, 35.95068493150685]\n",
      "[24456, 218.4, 24.379784102060842]\n",
      "[70972, 289.6, 14.771346446485937]\n",
      "-----------------------------------------------\n",
      "5\n",
      "-----------------------------------------------\n",
      "[9580, 261.6, 89.29352818371608]\n",
      "[12296, 293.6, 87.63109954456733]\n",
      "[9580, 261.6, 89.29352818371608]\n",
      "[13200, 299.2, 84.77333333333333]\n",
      "[16076, 172.0, 23.003234635481462]\n",
      "[12832, 303.2, 89.55174563591022]\n",
      "[12828, 301.6, 88.63673214842532]\n",
      "[13140, 194.4, 35.95068493150685]\n"
     ]
    }
   ],
   "source": [
    "print(\"-------------------------------------------------\")\n",
    "print(\"Result Klusters:\")\n",
    "for i in range(0, clusters):\n",
    "    print(\"-----------------------------------------------\")\n",
    "    print(str(i))\n",
    "    print(\"-----------------------------------------------\")\n",
    "    for point in KRESULT[i]:\n",
    "        print(point)"
   ]
  }
 ],
 "metadata": {
  "kernelspec": {
   "display_name": "Python 3",
   "language": "python",
   "name": "python3"
  },
  "language_info": {
   "codemirror_mode": {
    "name": "ipython",
    "version": 3
   },
   "file_extension": ".py",
   "mimetype": "text/x-python",
   "name": "python",
   "nbconvert_exporter": "python",
   "pygments_lexer": "ipython3",
   "version": "3.6.3"
  }
 },
 "nbformat": 4,
 "nbformat_minor": 2
}
