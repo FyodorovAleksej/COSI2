{
 "cells": [
  {
   "cell_type": "code",
   "execution_count": 1,
   "metadata": {},
   "outputs": [],
   "source": [
    "import engine\n",
    "\n",
    "KMEANS = []\n",
    "KRESULT = {}\n",
    "\n",
    "pictures = [(\"./resources/Laba_2_easy/P0001460.jpg\", 6),  # 3),\n",
    "            (\"./resources/Laba_2_easy/P0001461.jpg\", 6),\n",
    "            (\"./resources/Laba_2_easy/P0001468.jpg\", 6),\n",
    "            (\"./resources/Laba_2_easy/P0001469.jpg\", 6),\n",
    "            (\"./resources/Laba_2_easy/P0001471.jpg\", 6),\n",
    "\n",
    "            (\"./resources/Laba_2_hard/P0001464.jpg\", 6),\n",
    "            (\"./resources/Laba_2_hard/P0001465.jpg\", 6),\n",
    "            (\"./resources/Laba_2_hard/P0001467.jpg\", 6),\n",
    "            (\"./resources/Laba_2_hard/P0001470.jpg\", 6),  # 5),\n",
    "            (\"./resources/Laba_2_hard/P0001472.jpg\", 6)]\n",
    "\n",
    "colors = [(255, 0, 0), (0, 255, 0), (0, 0, 255), (255, 255, 0), (0, 255, 255), (255, 0, 255),\n",
    "                  (100, 0, 0), (0, 100, 0), (0, 0, 100), (100, 100, 0), (0, 100, 100), (100, 0, 100),\n",
    "                  (175, 0, 0), (0, 175, 0), (0, 0, 175), (175, 175, 0), (0, 175, 175), (175, 0, 175)]\n",
    "\n",
    "params = [(\"square\", 4), (\"perimeter\", 0.8), (\"compact\", 2)]\n",
    "\n",
    "oper = 0\n",
    "\n",
    "\n",
    "inputPicture = pictures[oper][0]\n",
    "clusters = pictures[oper][1]"
   ]
  },
  {
   "cell_type": "markdown",
   "metadata": {},
   "source": [
    "# Original image\n",
    "![title](./resources/Laba_2_easy/P0001460.jpg \"Original\")"
   ]
  },
  {
   "cell_type": "code",
   "execution_count": 2,
   "metadata": {},
   "outputs": [],
   "source": [
    "engine.toBinImage(inputPicture, \"binPicture.png\")"
   ]
  },
  {
   "cell_type": "markdown",
   "metadata": {},
   "source": [
    "# Binary image\n",
    "![title](./binPicture.png \"bin image\")"
   ]
  },
  {
   "cell_type": "code",
   "execution_count": 3,
   "metadata": {},
   "outputs": [],
   "source": [
    "binMap = engine.toBinCheckMeans(\"binPicture.png\", \"meanBinPicture.png\")"
   ]
  },
  {
   "cell_type": "markdown",
   "metadata": {},
   "source": [
    "# Binary with means image\n",
    "![title](./meanBinPicture.png \"bin mean image\")"
   ]
  },
  {
   "cell_type": "code",
   "execution_count": 4,
   "metadata": {},
   "outputs": [],
   "source": [
    "obj = engine.findObjectsOnImage(\"meanBinPicture.png\", binMap)\n",
    "objectChar = {i: engine.characteristics(obj[i]) for i in obj.keys()}\n",
    "\n",
    "res = engine.learnKMean(\"meanBinPicture.png\", objectChar, obj, clusters, \"resultPicture.png\", params, colors,\n",
    "                     KMEANS, KRESULT)\n",
    "KMEANS = res[0]\n",
    "KRESULT = res[1]"
   ]
  },
  {
   "cell_type": "markdown",
   "metadata": {},
   "source": [
    "# Result with clusters image\n",
    "![title](resultPicture.png \"result image\")"
   ]
  },
  {
   "cell_type": "code",
   "execution_count": 5,
   "metadata": {},
   "outputs": [
    {
     "name": "stdout",
     "output_type": "stream",
     "text": [
      "-------------------------------------------------\n",
      "Result Klusters:\n",
      "-----------------------------------------------\n",
      "0\n",
      "-----------------------------------------------\n",
      "[1732, 65.60000000000001, 31.057736720554274]\n",
      "[2928, 56.800000000000004, 13.773224043715848]\n",
      "[3080, 61.6, 15.4]\n",
      "[2980, 61.6, 15.916778523489933]\n",
      "[2968, 59.2, 14.76010781671159]\n",
      "[3096, 61.6, 15.320413436692506]\n",
      "[1732, 65.60000000000001, 31.057736720554274]\n",
      "[2928, 56.800000000000004, 13.773224043715848]\n",
      "[3080, 61.6, 15.4]\n",
      "[2980, 61.6, 15.916778523489933]\n",
      "[2968, 59.2, 14.76010781671159]\n",
      "[3096, 61.6, 15.320413436692506]\n",
      "-----------------------------------------------\n",
      "1\n",
      "-----------------------------------------------\n",
      "[64, 24.0, 112.5]\n",
      "[48, 17.6, 80.66666666666667]\n",
      "[60, 22.400000000000002, 104.53333333333333]\n",
      "[64, 24.0, 112.5]\n",
      "[48, 17.6, 80.66666666666667]\n",
      "[60, 22.400000000000002, 104.53333333333333]\n",
      "[120, 23.200000000000003, 56.06666666666667]\n",
      "-----------------------------------------------\n",
      "2\n",
      "-----------------------------------------------\n",
      "[424, 28.8, 24.452830188679247]\n",
      "[184, 17.6, 21.043478260869566]\n",
      "[120, 23.200000000000003, 56.06666666666667]\n",
      "[424, 28.8, 24.452830188679247]\n",
      "[184, 17.6, 21.043478260869566]\n",
      "-----------------------------------------------\n",
      "3\n",
      "-----------------------------------------------\n",
      "[11856, 262.40000000000003, 72.59379217273954]\n",
      "[11856, 292.8, 90.38866396761134]\n",
      "[11844, 154.4, 25.159743329956097]\n",
      "[11856, 262.40000000000003, 72.59379217273954]\n",
      "[11856, 292.8, 90.38866396761134]\n",
      "[11844, 154.4, 25.159743329956097]\n",
      "-----------------------------------------------\n",
      "4\n",
      "-----------------------------------------------\n",
      "[124, 48.0, 232.25806451612902]\n",
      "[132, 51.2, 248.24242424242425]\n",
      "[112, 43.2, 208.28571428571428]\n",
      "[124, 48.0, 232.25806451612902]\n",
      "[132, 51.2, 248.24242424242425]\n",
      "[112, 43.2, 208.28571428571428]\n",
      "-----------------------------------------------\n",
      "5\n",
      "-----------------------------------------------\n",
      "[4, 0.0, 0.0]\n",
      "[8, 0.0, 0.0]\n",
      "[44, 12.8, 46.54545454545455]\n",
      "[36, 12.8, 56.888888888888886]\n",
      "[8, 1.6, 4.0]\n",
      "[16, 4.800000000000001, 18.0]\n",
      "[12, 3.2, 10.666666666666666]\n",
      "[24, 8.0, 33.333333333333336]\n",
      "[4, 0.0, 0.0]\n",
      "[8, 0.0, 0.0]\n",
      "[44, 12.8, 46.54545454545455]\n",
      "[36, 12.8, 56.888888888888886]\n",
      "[8, 1.6, 4.0]\n",
      "[16, 4.800000000000001, 18.0]\n",
      "[12, 3.2, 10.666666666666666]\n",
      "[24, 8.0, 33.333333333333336]\n"
     ]
    }
   ],
   "source": [
    "print(\"-------------------------------------------------\")\n",
    "print(\"Result Klusters:\")\n",
    "for i in range(0, clusters):\n",
    "    print(\"-----------------------------------------------\")\n",
    "    print(str(i))\n",
    "    print(\"-----------------------------------------------\")\n",
    "    for point in KRESULT[i]:\n",
    "        print(point)"
   ]
  }
 ],
 "metadata": {
  "kernelspec": {
   "display_name": "Python 3",
   "language": "python",
   "name": "python3"
  },
  "language_info": {
   "codemirror_mode": {
    "name": "ipython",
    "version": 3
   },
   "file_extension": ".py",
   "mimetype": "text/x-python",
   "name": "python",
   "nbconvert_exporter": "python",
   "pygments_lexer": "ipython3",
   "version": "3.6.3"
  }
 },
 "nbformat": 4,
 "nbformat_minor": 2
}
