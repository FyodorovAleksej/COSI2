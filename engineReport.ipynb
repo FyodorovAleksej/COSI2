{
 "cells": [
  {
   "cell_type": "code",
   "execution_count": 6,
   "metadata": {},
   "outputs": [],
   "source": [
    "import engine\n",
    "\n",
    "KMEANS = []\n",
    "KRESULT = {}\n",
    "\n",
    "pictures = [(\"./resources/Laba_2_easy/P0001460.jpg\", 6),  # 3),\n",
    "            (\"./resources/Laba_2_easy/P0001461.jpg\", 6),\n",
    "            (\"./resources/Laba_2_easy/P0001468.jpg\", 6),\n",
    "            (\"./resources/Laba_2_easy/P0001469.jpg\", 6),\n",
    "            (\"./resources/Laba_2_easy/P0001471.jpg\", 6),\n",
    "\n",
    "            (\"./resources/Laba_2_hard/P0001464.jpg\", 6),\n",
    "            (\"./resources/Laba_2_hard/P0001465.jpg\", 6),\n",
    "            (\"./resources/Laba_2_hard/P0001467.jpg\", 6),\n",
    "            (\"./resources/Laba_2_hard/P0001470.jpg\", 6),  # 5),\n",
    "            (\"./resources/Laba_2_hard/P0001472.jpg\", 6)]\n",
    "\n",
    "colors = [(255, 0, 0), (0, 255, 0), (0, 0, 255), (255, 255, 0), (0, 255, 255), (255, 0, 255),\n",
    "                  (100, 0, 0), (0, 100, 0), (0, 0, 100), (100, 100, 0), (0, 100, 100), (100, 0, 100),\n",
    "                  (175, 0, 0), (0, 175, 0), (0, 0, 175), (175, 175, 0), (0, 175, 175), (175, 0, 175)]\n",
    "\n",
    "params = [(\"square\", 1), (\"perimeter\", 0), (\"compact\", 0)]\n",
    "\n",
    "oper = 4\n",
    "\n",
    "\n",
    "inputPicture = pictures[oper][0]\n",
    "clusters = pictures[oper][1]"
   ]
  },
  {
   "cell_type": "markdown",
   "metadata": {},
   "source": [
    "# Original image\n",
    "![title](./resources/Laba_2_easy/P0001471.jpg \"Original\")"
   ]
  },
  {
   "cell_type": "code",
   "execution_count": 7,
   "metadata": {},
   "outputs": [],
   "source": [
    "engine.toBinImage(inputPicture, \"binPicture.png\")"
   ]
  },
  {
   "cell_type": "markdown",
   "metadata": {},
   "source": [
    "# Binary image\n",
    "![title](./binPicture.png \"bin image\")"
   ]
  },
  {
   "cell_type": "code",
   "execution_count": 8,
   "metadata": {},
   "outputs": [],
   "source": [
    "binMap = engine.toBinCheckMeans(\"binPicture.png\", \"meanBinPicture.png\")"
   ]
  },
  {
   "cell_type": "markdown",
   "metadata": {},
   "source": [
    "# Binary with means image\n",
    "![title](./meanBinPicture.png \"bin mean image\")"
   ]
  },
  {
   "cell_type": "code",
   "execution_count": 9,
   "metadata": {},
   "outputs": [],
   "source": [
    "obj = engine.findObjectsOnImage(\"meanBinPicture.png\", binMap)\n",
    "objectChar = {i: engine.characteristics(obj[i]) for i in obj.keys()}\n",
    "\n",
    "res = engine.learnKMean(\"meanBinPicture.png\", objectChar, obj, clusters, \"resultPicture.png\", params, colors,\n",
    "                     KMEANS, KRESULT)\n",
    "KMEANS = res[0]\n",
    "KRESULT = res[1]"
   ]
  },
  {
   "cell_type": "markdown",
   "metadata": {},
   "source": [
    "# Result with clusters image\n",
    "![title](resultPicture.png \"result image\")"
   ]
  },
  {
   "cell_type": "code",
   "execution_count": 10,
   "metadata": {},
   "outputs": [
    {
     "name": "stdout",
     "output_type": "stream",
     "text": [
      "-------------------------------------------------\n",
      "Result Klusters:\n",
      "-----------------------------------------------\n",
      "0\n",
      "-----------------------------------------------\n",
      "[1, 0, 0.0]\n",
      "[15, 0, 0.0]\n",
      "[90, 0, 0.0]\n",
      "[6, 0, 0.0]\n",
      "[1, 0, 0.0]\n",
      "[15, 0, 0.0]\n",
      "[90, 0, 0.0]\n",
      "[6, 0, 0.0]\n",
      "-----------------------------------------------\n",
      "1\n",
      "-----------------------------------------------\n",
      "[17743, 0, 0.0]\n",
      "[17743, 0, 0.0]\n",
      "-----------------------------------------------\n",
      "2\n",
      "-----------------------------------------------\n",
      "[3074, 0, 0.0]\n",
      "[2395, 0, 0.0]\n",
      "[3208, 0, 0.0]\n",
      "[3207, 0, 0.0]\n",
      "[3074, 0, 0.0]\n",
      "[2395, 0, 0.0]\n",
      "[3300, 0, 0.0]\n",
      "[3208, 0, 0.0]\n",
      "[3207, 0, 0.0]\n",
      "[3285, 0, 0.0]\n",
      "-----------------------------------------------\n",
      "3\n",
      "-----------------------------------------------\n",
      "[3300, 0, 0.0]\n",
      "[4019, 0, 0.0]\n",
      "[6114, 0, 0.0]\n",
      "[3285, 0, 0.0]\n",
      "[4019, 0, 0.0]\n",
      "[6114, 0, 0.0]\n",
      "-----------------------------------------------\n",
      "4\n",
      "-----------------------------------------------\n",
      "[900, 0, 0.0]\n",
      "[902, 0, 0.0]\n",
      "[824, 0, 0.0]\n",
      "[847, 0, 0.0]\n",
      "[900, 0, 0.0]\n",
      "[902, 0, 0.0]\n",
      "[824, 0, 0.0]\n",
      "[847, 0, 0.0]\n",
      "-----------------------------------------------\n",
      "5\n",
      "-----------------------------------------------\n",
      "[1015, 0, 0.0]\n",
      "[1015, 0, 0.0]\n"
     ]
    }
   ],
   "source": [
    "print(\"-------------------------------------------------\")\n",
    "print(\"Result Klusters:\")\n",
    "for i in range(0, clusters):\n",
    "    print(\"-----------------------------------------------\")\n",
    "    print(str(i))\n",
    "    print(\"-----------------------------------------------\")\n",
    "    for point in KRESULT[i]:\n",
    "        print(point)"
   ]
  },
  {
   "cell_type": "code",
   "execution_count": null,
   "metadata": {},
   "outputs": [],
   "source": []
  }
 ],
 "metadata": {
  "kernelspec": {
   "display_name": "Python 3",
   "language": "python",
   "name": "python3"
  },
  "language_info": {
   "codemirror_mode": {
    "name": "ipython",
    "version": 3
   },
   "file_extension": ".py",
   "mimetype": "text/x-python",
   "name": "python",
   "nbconvert_exporter": "python",
   "pygments_lexer": "ipython3",
   "version": "3.6.3"
  }
 },
 "nbformat": 4,
 "nbformat_minor": 2
}
